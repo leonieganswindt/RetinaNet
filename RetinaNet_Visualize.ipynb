{
 "cells": [
  {
   "cell_type": "markdown",
   "metadata": {},
   "source": [
    "# Print the Prediction from RetinaNet\n",
    "## Load the prediction json-file"
   ]
  },
  {
   "cell_type": "code",
   "execution_count": null,
   "metadata": {},
   "outputs": [],
   "source": [
    "import json\n",
    "import re\n",
    "import numpy as np\n",
    "\n",
    "from skimage.transform import resize\n",
    "from skimage.io import imread\n",
    "\n",
    "from matplotlib import pyplot as plt\n",
    "from matplotlib.patches import Rectangle\n",
    "%matplotlib inline"
   ]
  },
  {
   "cell_type": "code",
   "execution_count": null,
   "metadata": {},
   "outputs": [],
   "source": [
    "def read_data(filepath):\n",
    "    with open(filepath) as json_file:\n",
    "        dataset = json.load(json_file)\n",
    "\n",
    "    #print(dataset)\n",
    "    \n",
    "    return dataset\n",
    "\n",
    "    print('done')"
   ]
  },
  {
   "cell_type": "markdown",
   "metadata": {},
   "source": [
    "## Parameters"
   ]
  },
  {
   "cell_type": "code",
   "execution_count": null,
   "metadata": {},
   "outputs": [],
   "source": [
    "# Filepath for the results json-file\n",
    "filepath = '/scratch/ganswindt/retinanet/result_2906-val.json'\n",
    "\n",
    "# Filepath for the image dataset\n",
    "img_path = '/scratch/ganswindt/retinanet/COCO/DIR/val/'"
   ]
  },
  {
   "cell_type": "markdown",
   "metadata": {},
   "source": [
    "## Split Prediction in Categories"
   ]
  },
  {
   "cell_type": "code",
   "execution_count": null,
   "metadata": {},
   "outputs": [],
   "source": [
    "data = dict()\n",
    "\n",
    "dataset = read_data(filepath)\n",
    "\n",
    "for d in dataset:\n",
    "    \n",
    "    idx = d['image_id']\n",
    "    \n",
    "    if not d['score'] > 0.7:\n",
    "        print(d['score'])\n",
    "        continue\n",
    "        \n",
    "    if idx in data:\n",
    "        \n",
    "        if d['category_id'] is 1:\n",
    "            data[idx]['bboxes_1'].append(d['bbox'])\n",
    "        elif d['category_id'] is 2:\n",
    "            data[idx]['bboxes_2'].append(d['bbox'])\n",
    "        elif d['category_id'] is 3:\n",
    "            data[idx]['bboxes_3'].append(d['bbox'])\n",
    "        \n",
    "    else:\n",
    "        \n",
    "        tmp = dict()\n",
    "        tmp_1 = []\n",
    "        tmp_2 = []\n",
    "        tmp_3 = []\n",
    "        #tmp_s = []\n",
    "        \n",
    "        if d['category_id'] is 1:\n",
    "            tmp_1.append(d['bbox'])\n",
    "        elif d['category_id'] is 2:\n",
    "            tmp_2.append(d['bbox'])\n",
    "        elif d['category_id'] is 3:\n",
    "            tmp_3.append(d['bbox'])\n",
    "        \n",
    "        tmp['bboxes_1'] = tmp_1\n",
    "        tmp['bboxes_2'] = tmp_2\n",
    "        tmp['bboxes_3'] = tmp_3\n",
    "        \n",
    "        data[idx] = tmp\n",
    "\n",
    "print('done')"
   ]
  },
  {
   "cell_type": "markdown",
   "metadata": {},
   "source": [
    "## Display splitted Prediction on one image\n",
    "\n",
    "<font color=yellow>Category 1: Mating-Event: yellow</font>\n",
    "\n",
    "<font color=red>Category 2: Single Cell: red</font>\n",
    "\n",
    "<font color=blue>Category 3: Crowd: blue</font>"
   ]
  },
  {
   "cell_type": "code",
   "execution_count": null,
   "metadata": {
    "scrolled": true
   },
   "outputs": [],
   "source": [
    "for p in data:\n",
    "    \n",
    "    class_1 = data[p]['bboxes_1']\n",
    "    class_2 = data[p]['bboxes_2']\n",
    "    class_3 = data[p]['bboxes_3']\n",
    "        \n",
    "    img_name = 'Cells_' + str(p)\n",
    "    tmp_path = img_path + img_name + '.tiff'\n",
    "    img = imread(tmp_path)\n",
    "    \n",
    "    img = np.array(img).astype('float32')\n",
    "    img /= np.max(img)\n",
    "    \n",
    "    print('All Classes: ', ' Img: ', img_name)\n",
    "    \n",
    "    plt.rcParams['figure.figsize'] = [15, 15]\n",
    "    plt.imshow(img, cmap='gray')\n",
    "    for bbox in class_1:\n",
    "        #print(bbox)\n",
    "        r = Rectangle((bbox[0], bbox[1]), bbox[2]-bbox[0], bbox[3]-bbox[1], fill=None, color='y', linewidth=3)\n",
    "        plt.gca().add_artist(r)\n",
    "    for bbox in class_2:\n",
    "        #print(bbox)\n",
    "        r = Rectangle((bbox[0], bbox[1]), bbox[2]-bbox[0], bbox[3]-bbox[1], fill=None, color='r', linewidth=3)\n",
    "        plt.gca().add_artist(r)\n",
    "    for bbox in class_3:\n",
    "        #print(bbox)\n",
    "        r = Rectangle((bbox[0], bbox[1]), bbox[2]-bbox[0], bbox[3]-bbox[1], fill=None, color='b', linewidth=3)\n",
    "        plt.gca().add_artist(r)\n",
    "    plt.show()\n",
    "    \n",
    "print('done')"
   ]
  },
  {
   "cell_type": "markdown",
   "metadata": {},
   "source": [
    "## Diyplay predictions per image\n",
    "\n",
    "<font color=yellow>Category 1: Mating-Event: yellow</font>\n",
    "\n",
    "<font color=red>Category 2: Single Cell: red</font>\n",
    "\n",
    "<font color=blue>Category 3: Crowd: blue</font>"
   ]
  },
  {
   "cell_type": "code",
   "execution_count": null,
   "metadata": {
    "scrolled": true
   },
   "outputs": [],
   "source": [
    "for p in data:\n",
    "    \n",
    "    class_1 = data[p]['bboxes_1']\n",
    "    class_2 = data[p]['bboxes_2']\n",
    "    class_3 = data[p]['bboxes_3']\n",
    "        \n",
    "    img_name = 'Cells_' + str(p)\n",
    "    tmp_path = img_path + img_name + '.tiff'\n",
    "    img = imread(tmp_path)\n",
    "\n",
    "    print(\"Mating Events: \", len(class_1), ' Img: ', img_name)\n",
    "    \n",
    "    plt.rcParams['figure.figsize'] = [15, 15]\n",
    "    plt.imshow(img, cmap='gray')\n",
    "    for bbox in class_1:\n",
    "        r = Rectangle((bbox[0], bbox[1]), bbox[2]-bbox[0], bbox[3]-bbox[1], fill=None, color='y', linewidth=3)\n",
    "        plt.gca().add_artist(r)\n",
    "    plt.show()\n",
    "    \n",
    "    print(\"Single Cells: \", len(class_2), ' Img: ', img_name)\n",
    "\n",
    "    plt.rcParams['figure.figsize'] = [15, 15]\n",
    "    plt.imshow(img, cmap='gray')\n",
    "    for bbox in class_2:\n",
    "        r = Rectangle((bbox[0], bbox[1]), bbox[2]-bbox[0], bbox[3]-bbox[1], fill=None, color='r', linewidth=3)\n",
    "        plt.gca().add_artist(r)\n",
    "    plt.show()\n",
    "    \n",
    "    print(\"Crowd: \", len(class_3), ' Img: ', img_name)\n",
    "    \n",
    "    plt.rcParams['figure.figsize'] = [15, 15]\n",
    "    plt.imshow(img, cmap='gray')\n",
    "    for bbox in class_3:\n",
    "        r = Rectangle((bbox[0], bbox[1]), bbox[2]-bbox[0], bbox[3]-bbox[1], fill=None, color='b', linewidth=3)\n",
    "        plt.gca().add_artist(r)\n",
    "    plt.show()\n",
    "\n",
    "print('done')"
   ]
  },
  {
   "cell_type": "code",
   "execution_count": null,
   "metadata": {},
   "outputs": [],
   "source": []
  }
 ],
 "metadata": {
  "kernelspec": {
   "display_name": "Python 3",
   "language": "python",
   "name": "python3"
  },
  "language_info": {
   "codemirror_mode": {
    "name": "ipython",
    "version": 3
   },
   "file_extension": ".py",
   "mimetype": "text/x-python",
   "name": "python",
   "nbconvert_exporter": "python",
   "pygments_lexer": "ipython3",
   "version": "3.6.8"
  }
 },
 "nbformat": 4,
 "nbformat_minor": 2
}
